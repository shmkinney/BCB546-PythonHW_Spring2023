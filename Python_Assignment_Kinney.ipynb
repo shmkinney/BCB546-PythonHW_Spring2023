{
 "cells": [
  {
   "cell_type": "markdown",
   "id": "a2af8199",
   "metadata": {},
   "source": [
    "# Python Assignment - Kinney - 2023"
   ]
  },
  {
   "cell_type": "markdown",
   "id": "33bbad42",
   "metadata": {},
   "source": [
    "NOTES!\n",
    "\n",
    "Add examples to functions (?)\n",
    "OBVIOUSLY, finish making code, not just pseudo-code\n",
    "DO part 3 entirely\n",
    "Make sure every line or every other line at least has a comment"
   ]
  },
  {
   "cell_type": "markdown",
   "id": "0897180f",
   "metadata": {},
   "source": [
    "## Description: \n",
    "Extract and analyze data such as DNA, mass, geographical range of penguin species"
   ]
  },
  {
   "cell_type": "markdown",
   "id": "cb7c6ffe",
   "metadata": {},
   "source": [
    "## Dependencies: \n",
    "(code for installation is provided, commented out)\n",
    "\n",
    "BioPython \n",
    "Seaborn\n",
    "Pandas"
   ]
  },
  {
   "cell_type": "markdown",
   "id": "38945149",
   "metadata": {},
   "source": [
    "## Authors: Shelly Kinney, Dr. X"
   ]
  },
  {
   "cell_type": "markdown",
   "id": "d0db96b0",
   "metadata": {},
   "source": [
    "## Date Written/Updated: 05/05/2023"
   ]
  },
  {
   "cell_type": "markdown",
   "id": "93b35275",
   "metadata": {},
   "source": [
    "References listed when used"
   ]
  },
  {
   "cell_type": "code",
   "execution_count": null,
   "id": "9b16a006",
   "metadata": {},
   "outputs": [],
   "source": [
    "######################## BCB 546X: Python Assignment Details ########################\n",
    "\n",
    "# ** Your Mission: Complete Python code in a Jupyter Notebook ** #\n",
    "\n",
    "#-- Functions --#\n",
    "## 1. Document Dr. X's function with comments and with markdown text in your Jupyter notebook.\n",
    "## 2. Write a function that translates a string of nucleotides to amino acids based on Dr. X's pseudo-code suggestion.\n",
    "## 3. Write an alternative translation function.\n",
    "## 4. Write a function that calculates the molecular weight of each 3 amino acid sequence.\n",
    "## 5. Write a function that computes the GC-content of each DNA sequence.\n",
    "\n",
    "#-- In the MAIN part of the script --#\n",
    "## 6. Add two new columns to the penguin DataFrame: (1) molecular weight and (2) GC content.\n",
    "## 7. Call your functions from step 3 (or step 2) and step 4 and fill in the new columns in the DataFrame.\n",
    "## 8. Plot a bar-chart of adult body mass per species. In your description of the graph, \n",
    "#provide text that answers these questions: \n",
    "#       a. What is the smallest penguin species? \n",
    "#       b. What is the geographical range of this species?\n",
    "## 9. Plot a graph that shows the molecular weight as a function of GC content. \n",
    "## 10. Write the entire DataFrame to a new CSV file that includes your new columns.\n",
    "## 11. BONUS: What other visualizations, functions or tasks would you do with this dataset? \n",
    "#Add something interesting for fun. (0.5 additional points if your total score is < 15).\n",
    "\n",
    "#-- Additional Instructions (points will be deducted if these instructions are not heeded) --#\n",
    "## ** Do all of this in a Jupyter notebook and push it to a GitHub repository.\n",
    "## ** Your repository should not contain any files other than those associated with this assignment. \n",
    "## ** Read all comments carefully and answer the questions by including information in your Jupyter notebook.\n",
    "## ** Document all of your code (and Dr. X's code) very thoroughly so that it is clear what you did.\n",
    "## ** Be sure to cite (by providing URLs or other appropriate citations) information appropriately in your documented notebook.\n",
    "## ** Commit and push your completed work in the Jupyter notebook to your repository.\n",
    "## ** Submit the URL to your git repository via Canvas by the end of the day on May 6, 2022.\n",
    "\n",
    "#-- Disclaimer --#\n",
    "## Not all of these tasks have been covered in class and you will have to use online resources to \n",
    "#find out how to do some of these tasks.\n",
    "\n",
    "\n"
   ]
  },
  {
   "cell_type": "markdown",
   "id": "06e19489",
   "metadata": {},
   "source": [
    "### Installation Code if Needed"
   ]
  },
  {
   "cell_type": "code",
   "execution_count": 1,
   "id": "9b2d7ec5",
   "metadata": {},
   "outputs": [
    {
     "name": "stdout",
     "output_type": "stream",
     "text": [
      "Collecting package metadata (current_repodata.json): ...working... done\n",
      "Solving environment: ...working... done\n",
      "\n",
      "# All requested packages already installed.\n",
      "\n",
      "\n",
      "Note: you may need to restart the kernel to use updated packages.\n"
     ]
    }
   ],
   "source": [
    "#conda install pandas\n",
    "\n",
    "#Use this code if not yet installed"
   ]
  },
  {
   "cell_type": "code",
   "execution_count": 2,
   "id": "ec5c0a0e",
   "metadata": {},
   "outputs": [
    {
     "name": "stdout",
     "output_type": "stream",
     "text": [
      "Collecting package metadata (current_repodata.json): ...working... done\n",
      "Solving environment: ...working... done\n",
      "\n",
      "# All requested packages already installed.\n",
      "\n",
      "\n",
      "Note: you may need to restart the kernel to use updated packages.\n"
     ]
    }
   ],
   "source": [
    "#conda install biopython\n",
    "\n",
    "#Use this code if not yet installed"
   ]
  },
  {
   "cell_type": "code",
   "execution_count": 3,
   "id": "4609aa0a",
   "metadata": {},
   "outputs": [
    {
     "name": "stdout",
     "output_type": "stream",
     "text": [
      "Collecting package metadata (current_repodata.json): ...working... done\n",
      "Note: you may need to restart the kernel to use updated packages.\n",
      "\n",
      "Solving environment: ...working... done\n",
      "\n",
      "# All requested packages already installed.\n",
      "\n"
     ]
    }
   ],
   "source": [
    "#conda install seaborn\n",
    "\n",
    "#Use this code if not yet installed"
   ]
  },
  {
   "cell_type": "code",
   "execution_count": 4,
   "id": "e5cdd05c",
   "metadata": {},
   "outputs": [
    {
     "name": "stdout",
     "output_type": "stream",
     "text": [
      "Collecting package metadata (current_repodata.json): ...working... done\n",
      "Solving environment: ...working... done\n",
      "\n",
      "# All requested packages already installed.\n",
      "\n",
      "\n",
      "Note: you may need to restart the kernel to use updated packages.\n"
     ]
    }
   ],
   "source": [
    "#conda install bokeh\n",
    "\n",
    "#Use this code if not yet installed"
   ]
  },
  {
   "cell_type": "markdown",
   "id": "bdbaae5d",
   "metadata": {},
   "source": [
    "## Python Script"
   ]
  },
  {
   "cell_type": "code",
   "execution_count": 5,
   "id": "f3edd77a",
   "metadata": {},
   "outputs": [],
   "source": [
    "######################## Python Translate Script ########################\n",
    "\n",
    "## Here's the start of our Python script. Thanks for completing it for me! - Dr. X\n",
    "## IMPORTANT: install BioPython so that this will work\n",
    "\n",
    "\n",
    "\n",
    "from Bio import SeqIO\n",
    "from Bio.Data import CodonTable\n",
    "import pandas as pd\n",
    "\n"
   ]
  },
  {
   "cell_type": "code",
   "execution_count": 6,
   "id": "626b7e17",
   "metadata": {},
   "outputs": [],
   "source": [
    "#%%%%%%%%%%%%%%%#\n",
    "### FUNCTIONS ###\n",
    "#%%%%%%%%%%%%%%%#\n",
    "\n",
    "## 1 ##\n",
    "## Dr. X: this gets sequences \n",
    "## Please properly document this function in the Jupyter notebook \n",
    "## Your descriptions of all functions should contain information about what the function does,\n",
    "## as well as information about the return types and arguments.\n",
    "\n",
    "#1#\n",
    "def get_sequences_from_file(fasta_fn):                         #creates function: name(input)\n",
    "    sequence_data_dict = {}                                    #create a file for retrieved sequences\n",
    "    for record in SeqIO.parse(fasta_fn, \"fasta\"):              #input sequences retrieved\n",
    "        description = record.description.split()               #split description data\n",
    "        species_name = description[1] + \" \" + description[2]   #create species name file with spaced description input \n",
    "        sequence_data_dict[species_name] = record.seq          #retrieve sequence related to species name\n",
    "    return(sequence_data_dict)                                 #output is object with all sequences\n",
    "\n"
   ]
  },
  {
   "cell_type": "code",
   "execution_count": null,
   "id": "94fcc6f7",
   "metadata": {},
   "outputs": [],
   "source": [
    "## 2 ##\n",
    "####### YOUR STRING-TRANSLATE FUNCTION ########\n",
    "## Write a function that translates sequences\n",
    "## All sequences start at codon position 1\n",
    "## Complete a function that translates using a loop over the string of nucleotides\n",
    "## Here is  some pseudo-code and suggestions\n",
    "## feel free to change the function and variable names\n",
    "# def translate_function(string_nucleotides): \n",
    "#     mito_table = CodonTable.unambiguous_dna_by_name[\"Vertebrate Mitochondrial\"] \n",
    "# this should work using BioPython (be sure to check what this returns)\n",
    "#     for-loop through every 3rd position in string_nucleotides to get the codon using range subsets\n",
    "#         # IMPORTANT: if the sequence has a stop codon at the end, you should leave it off\n",
    "#         # this is how you can retrieve the amino acid: mito_table.forward_table[codon]\n",
    "#         add the aa to aa_seq_string\n",
    "#     return(aa_seq_string)\n",
    "\n",
    "#2#\n",
    "def translate_seq_fn(nucleotides)                                                 #creates function: name(input)\n",
    "    mito_table = CodonTable.unambiguous_dna_by_name[\"Vertebrate Mitochondrial\"]   ##check return## also retrieves amino acids\n",
    "    aa_seq = {}                                                                   #creates file for amino acid sequence\n",
    "    for 3seq in nucleotides                                                       #for loop, for 3 nucleotides in sequence\n",
    "        if 3seq != start codon:                                                   #match nucleotides; end if stop codon\n",
    "            aa = retrieve amino acid: mito_table.forward_table[codon]             #match nucleotides to amino acid\n",
    "            aa_seq += aa                                                          #adds amino acid to aa sequence\n",
    "    return(aa_seq)                                                                #returns amino acid sequence\n"
   ]
  },
  {
   "cell_type": "code",
   "execution_count": null,
   "id": "2dda18fa",
   "metadata": {},
   "outputs": [],
   "source": [
    "## 3 ##\n",
    "####### YOUR ALTERNATIVE FUNCTION ########\n",
    "## Is there a better way to write the translation function? (Hint: yes there is.) \n",
    "## Perhaps using available BioPython library utilities?\n",
    "## Please also write this function.\n",
    "\n",
    "#3#\n",
    "\n",
    "def translate(nucleotides)                                     #creates function: name(input)\n",
    "    "
   ]
  },
  {
   "cell_type": "code",
   "execution_count": null,
   "id": "4ab159c0",
   "metadata": {},
   "outputs": [],
   "source": [
    "## 4 ##\n",
    "####### YOUR COUNT AA ANALYSIS FUNCTION ########\n",
    "## Write a function that calculates the molecular weight of each amino acid sequence.\n",
    "## For this, you can use some BioPython functions. I think you can use the ProtParam module.\n",
    "## For more info, check this out: http://biopython.org/wiki/ProtParam\n",
    "## So you should import the following before defining your function:\n",
    "# def compute_molecular_weight(aa_seq):\n",
    "#     # I think the ProtParam functions may require aa_seq to be a string.\n",
    "#     # It may not work if the amino acid sequence has stop codons.\n",
    "#     run the ProteinAnalysis() function on aa_seq\n",
    "#\t  return the molecular weight\n",
    "\n",
    "\n",
    "#4#\n",
    "\n",
    "from Bio.SeqUtils.ProtParam import ProteinAnalysis    #import necessary protein analysis utility\n",
    "def molweight(aa_seq)                                 #create function: name(input)\n",
    "    weight = {}                                       #create object for weight\n",
    "    aa_seq_2 = convert aa_seq to string               #convert aa_seq into string for analysis\n",
    "    if last_aa_is_stop_codon                          #check for stop codons\n",
    "       remove stop codon                              #remove stop codons if present\n",
    "    weight = ProteinAnalysis(aa_seq_2)                #analyze protein weight and save in weight object\n",
    "    return(weight)                                    #return molecular weight of amino acid sequence\n",
    "\n"
   ]
  },
  {
   "cell_type": "code",
   "execution_count": null,
   "id": "69dde454",
   "metadata": {},
   "outputs": [],
   "source": [
    "## 5 ##\n",
    "####### YOUR GC CONTENT ANALYSIS FUNCTION ########\n",
    "## Write a function that calculates the GC-content (proportion of \"G\" and \"C\") of each DNA sequence and returns this value.\n",
    "\n",
    "#5#\n",
    "\n",
    "def GCcontent(nucleotides)                            #create function: name(input)\n",
    "    GCcount = {}                                      #create object for count of GC\n",
    "    GCpercent = {}                                    #create object for percent of GC\n",
    "    GCcount = (nucleotides.count('GC') + nucleotides.count('CG'))/(nucleotides.count('GCG') + nucleotides.count('CGC'))\n",
    "    #calculates GC content, while accounting for double counting of nucleotides???\n",
    "    GCpercent = GCcount/(nucleotides.count('A') + nucleotides.count('G') + nucleotides.count('T') + nucleotides.count('C'))\n",
    "    #calculates percent GC in DNA\n",
    "    return(GCpercent)                                 #return GC percentage\n",
    "\n"
   ]
  },
  {
   "cell_type": "code",
   "execution_count": null,
   "id": "fed82c8f",
   "metadata": {},
   "outputs": [],
   "source": [
    "#%%%%%%%%%%%%%%#\n",
    "###   MAIN   ###\n",
    "#%%%%%%%%%%%%%%#\n",
    "\n",
    "cytb_seqs = get_sequences_from_file(\"penguins_cytb.fasta\") \n",
    "\n",
    "penguins_df = pd.read_csv(\"penguins_mass.csv\") # Includes only data for body mass \n",
    "species_list = list(penguins_df.species)\n",
    "\n",
    "## 6 ## \n",
    "## Add two new columns to the penguin DataFrame: (1) molecular weight and (2) GC content.\n",
    "## Set the value to 'NaN' to indicate that these cells are currently empty.\n",
    "\n",
    "#6#\n",
    "\n",
    "for index, row in penguins_df.itterrows():\n",
    "    status = 'NaN'\n",
    "    penguins_df.loc[index, 'Mol. Weight'] = status\n",
    "    penguins_df.loc[index, 'GC Content'] = status\n",
    "\n"
   ]
  },
  {
   "cell_type": "code",
   "execution_count": null,
   "id": "63b812e1",
   "metadata": {},
   "outputs": [],
   "source": [
    "## 7 ##\n",
    "## Write a for-loop that translates each sequence and also gets molecular weight and computes the GC content\n",
    "## of each translated sequence and adds those data to DataFrame\n",
    "# for key, value in cytb_seqs.items():\n",
    "#     aa_seq = nuc2aa_translate_function(value) # whichever function you prefer of #2 or #3\n",
    "#     get the molecular weight of aa_seq\n",
    "#     get the GC content of the DNA sequence\n",
    "#     fill in empty cells in DF that you created above\n",
    "\n",
    "\n",
    "#7#\n",
    "for key, value in cytb_seqs.items():   \n",
    "    aa_seq1 = translate(value)\n",
    "    weight1 = molweight(aa_seq1)\n",
    "    penguins_df.loc[key, 'Mol. Weight'] = weight1\n",
    "    GCcont1 = GCcontent(value)\n",
    "    penguins_df.loc[key, 'GC Content'] = GCcont1\n"
   ]
  },
  {
   "cell_type": "code",
   "execution_count": null,
   "id": "1fbb0994",
   "metadata": {},
   "outputs": [],
   "source": [
    "## 8 ##\n",
    "## Plot a bar-chart of the mass with the x-axes labeled with species names.\n",
    "## *Q1* What is the smallest penguin species? \n",
    "## *Q2* What is the geographical range of this species?\n",
    "\n",
    "#8#\n"
   ]
  },
  {
   "cell_type": "code",
   "execution_count": null,
   "id": "88b64aa3",
   "metadata": {},
   "outputs": [],
   "source": [
    "## 9 ##\n",
    "## Plot a visualization of the molecular weight (y-axis) as a function of GC-content (x-axis).\n",
    "\n",
    "\n",
    "#9#"
   ]
  },
  {
   "cell_type": "code",
   "execution_count": null,
   "id": "6ed19e5a",
   "metadata": {},
   "outputs": [],
   "source": [
    "## 10 ##\n",
    "## Save the new DataFrame to a file called \"penguins_mass_cytb.csv\"\n",
    "\n",
    "\n",
    "'''\n",
    "Website: \n",
    "    https://sparkbyexamples.com/pandas/pandas-write-dataframe-to-csv-file/#:~:text=By%20using%20pandas.,index%20as%20the%20first%20column.\n",
    "'''\n",
    "#10#\n",
    "import numpy as np\n",
    "\n",
    "penguins_df.to_csv(\"penguins_mass_cytb.csv\")\n"
   ]
  },
  {
   "cell_type": "code",
   "execution_count": null,
   "id": "a037312d",
   "metadata": {},
   "outputs": [],
   "source": [
    "## 11 - BONUS ##\n",
    "## What else can we do with this dataset in Python? \n",
    "## Add functions or anything that might be interesting and fun. (optional)"
   ]
  },
  {
   "cell_type": "markdown",
   "id": "b227774f",
   "metadata": {},
   "source": [
    "End of Python Script"
   ]
  }
 ],
 "metadata": {
  "kernelspec": {
   "display_name": "Python 3 (ipykernel)",
   "language": "python",
   "name": "python3"
  },
  "language_info": {
   "codemirror_mode": {
    "name": "ipython",
    "version": 3
   },
   "file_extension": ".py",
   "mimetype": "text/x-python",
   "name": "python",
   "nbconvert_exporter": "python",
   "pygments_lexer": "ipython3",
   "version": "3.10.9"
  }
 },
 "nbformat": 4,
 "nbformat_minor": 5
}
