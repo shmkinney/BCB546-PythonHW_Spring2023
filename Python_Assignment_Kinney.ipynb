{
 "cells": [
  {
   "cell_type": "markdown",
   "id": "886b8c54",
   "metadata": {},
   "source": [
    "Python Assignment - Kinney - 2023"
   ]
  },
  {
   "cell_type": "markdown",
   "id": "7c71596b",
   "metadata": {},
   "source": [
    "Description: Extract and analyze data such as DNA, mass, geographical range of penguin species"
   ]
  },
  {
   "cell_type": "markdown",
   "id": "443365ef",
   "metadata": {},
   "source": [
    "Dependencies: (code for installation is provided, commented out)\n",
    "\n",
    "BioPython \n",
    "Seaborn\n",
    "Pandas"
   ]
  },
  {
   "cell_type": "markdown",
   "id": "d33ca740",
   "metadata": {},
   "source": [
    "Authors: Shelly Kinney, Dr.X"
   ]
  },
  {
   "cell_type": "markdown",
   "id": "c988dfb7",
   "metadata": {},
   "source": [
    "Date Written/Updated: 05/05/2023"
   ]
  },
  {
   "cell_type": "code",
   "execution_count": null,
   "id": "19f3da59",
   "metadata": {},
   "outputs": [],
   "source": [
    "######################## BCB 546X: Python Assignment Details ########################\n",
    "\n",
    "# ** Your Mission: Complete Python code in a Jupyter Notebook ** #\n",
    "\n",
    "#-- Functions --#\n",
    "## 1. Document Dr. X's function with comments and with markdown text in your Jupyter notebook.\n",
    "## 2. Write a function that translates a string of nucleotides to amino acids based on Dr. X's pseudo-code suggestion.\n",
    "## 3. Write an alternative translation function.\n",
    "## 4. Write a function that calculates the molecular weight of each 3 amino acid sequence.\n",
    "## 5. Write a function that computes the GC-content of each DNA sequence.\n",
    "\n",
    "#-- In the MAIN part of the script --#\n",
    "## 6. Add two new columns to the penguin DataFrame: (1) molecular weight and (2) GC content.\n",
    "## 7. Call your functions from step 3 (or step 2) and step 4 and fill in the new columns in the DataFrame.\n",
    "## 8. Plot a bar-chart of adult body mass per species. In your description of the graph, \n",
    "#provide text that answers these questions: \n",
    "#       a. What is the smallest penguin species? \n",
    "#       b. What is the geographical range of this species?\n",
    "## 9. Plot a graph that shows the molecular weight as a function of GC content. \n",
    "## 10. Write the entire DataFrame to a new CSV file that includes your new columns.\n",
    "## 11. BONUS: What other visualizations, functions or tasks would you do with this dataset? \n",
    "#Add something interesting for fun. (0.5 additional points if your total score is < 15).\n",
    "\n",
    "#-- Additional Instructions (points will be deducted if these instructions are not heeded) --#\n",
    "## ** Do all of this in a Jupyter notebook and push it to a GitHub repository.\n",
    "## ** Your repository should not contain any files other than those associated with this assignment. \n",
    "## ** Read all comments carefully and answer the questions by including information in your Jupyter notebook.\n",
    "## ** Document all of your code (and Dr. X's code) very thoroughly so that it is clear what you did.\n",
    "## ** Be sure to cite (by providing URLs or other appropriate citations) information appropriately in your documented notebook.\n",
    "## ** Commit and push your completed work in the Jupyter notebook to your repository.\n",
    "## ** Submit the URL to your git repository via Canvas by the end of the day on May 6, 2022.\n",
    "\n",
    "#-- Disclaimer --#\n",
    "## Not all of these tasks have been covered in class and you will have to use online resources to \n",
    "#find out how to do some of these tasks.\n",
    "\n",
    "\n"
   ]
  },
  {
   "cell_type": "code",
   "execution_count": 1,
   "id": "0c5830a1",
   "metadata": {},
   "outputs": [
    {
     "name": "stdout",
     "output_type": "stream",
     "text": [
      "Collecting package metadata (current_repodata.json): ...working... done\n",
      "Solving environment: ...working... done\n",
      "\n",
      "# All requested packages already installed.\n",
      "\n",
      "\n",
      "Note: you may need to restart the kernel to use updated packages.\n"
     ]
    }
   ],
   "source": [
    "#conda install pandas\n",
    "\n",
    "#Use this code if not yet installed"
   ]
  },
  {
   "cell_type": "code",
   "execution_count": 2,
   "id": "9f96e3fa",
   "metadata": {},
   "outputs": [
    {
     "name": "stdout",
     "output_type": "stream",
     "text": [
      "Collecting package metadata (current_repodata.json): ...working... done\n",
      "Solving environment: ...working... done\n",
      "\n",
      "# All requested packages already installed.\n",
      "\n",
      "\n",
      "Note: you may need to restart the kernel to use updated packages.\n"
     ]
    }
   ],
   "source": [
    "#conda install biopython\n",
    "\n",
    "#Use this code if not yet installed"
   ]
  },
  {
   "cell_type": "code",
   "execution_count": 3,
   "id": "82272301",
   "metadata": {},
   "outputs": [
    {
     "name": "stdout",
     "output_type": "stream",
     "text": [
      "Collecting package metadata (current_repodata.json): ...working... done\n",
      "Note: you may need to restart the kernel to use updated packages.\n",
      "\n",
      "Solving environment: ...working... done\n",
      "\n",
      "# All requested packages already installed.\n",
      "\n"
     ]
    }
   ],
   "source": [
    "#conda install seaborn\n",
    "\n",
    "#Use this code if not yet installed"
   ]
  },
  {
   "cell_type": "code",
   "execution_count": 4,
   "id": "a5452212",
   "metadata": {},
   "outputs": [
    {
     "name": "stdout",
     "output_type": "stream",
     "text": [
      "Collecting package metadata (current_repodata.json): ...working... done\n",
      "Solving environment: ...working... done\n",
      "\n",
      "# All requested packages already installed.\n",
      "\n",
      "\n",
      "Note: you may need to restart the kernel to use updated packages.\n"
     ]
    }
   ],
   "source": [
    "#conda install bokeh\n",
    "\n",
    "#Use this code if not yet installed"
   ]
  },
  {
   "cell_type": "code",
   "execution_count": 5,
   "id": "bcdf143c",
   "metadata": {},
   "outputs": [],
   "source": [
    "######################## Python Translate Script ########################\n",
    "\n",
    "## Here's the start of our Python script. Thanks for completing it for me! - Dr. X\n",
    "## IMPORTANT: install BioPython so that this will work\n",
    "\n",
    "\n",
    "\n",
    "from Bio import SeqIO\n",
    "from Bio.Data import CodonTable\n",
    "import pandas as pd\n",
    "\n"
   ]
  },
  {
   "cell_type": "code",
   "execution_count": 6,
   "id": "5515f002",
   "metadata": {},
   "outputs": [],
   "source": [
    "#%%%%%%%%%%%%%%%#\n",
    "### FUNCTIONS ###\n",
    "#%%%%%%%%%%%%%%%#\n",
    "\n",
    "## 1 ##\n",
    "## Dr. X: this gets sequences \n",
    "## Please properly document this function in the Jupyter notebook \n",
    "## Your descriptions of all functions should contain information about what the function does,\n",
    "## as well as information about the return types and arguments.\n",
    "\n",
    "#1#\n",
    "def get_sequences_from_file(fasta_fn):                         #creates function: name(input)\n",
    "    sequence_data_dict = {}                                    #create a file for retrieved sequences\n",
    "    for record in SeqIO.parse(fasta_fn, \"fasta\"):              #input sequences retrieved\n",
    "        description = record.description.split()               #split description data\n",
    "        species_name = description[1] + \" \" + description[2]   #create species name file with spaced description input \n",
    "        sequence_data_dict[species_name] = record.seq          #retrieve sequence related to species name\n",
    "    return(sequence_data_dict)                                 #output is object with all sequences\n",
    "\n"
   ]
  },
  {
   "cell_type": "code",
   "execution_count": null,
   "id": "c6300d27",
   "metadata": {},
   "outputs": [],
   "source": [
    "## 2 ##\n",
    "####### YOUR STRING-TRANSLATE FUNCTION ########\n",
    "## Write a function that translates sequences\n",
    "## All sequences start at codon position 1\n",
    "## Complete a function that translates using a loop over the string of nucleotides\n",
    "## Here is  some pseudo-code and suggestions\n",
    "## feel free to change the function and variable names\n",
    "# def translate_function(string_nucleotides): \n",
    "#     mito_table = CodonTable.unambiguous_dna_by_name[\"Vertebrate Mitochondrial\"] \n",
    "# this should work using BioPython (be sure to check what this returns)\n",
    "#     for-loop through every 3rd position in string_nucleotides to get the codon using range subsets\n",
    "#         # IMPORTANT: if the sequence has a stop codon at the end, you should leave it off\n",
    "#         # this is how you can retrieve the amino acid: mito_table.forward_table[codon]\n",
    "#         add the aa to aa_seq_string\n",
    "#     return(aa_seq_string)\n",
    "\n",
    "#2#\n",
    "def translate_seq_fn(nucleotides)                                                 #creates function: name(input)\n",
    "    mito_table = CodonTable.unambiguous_dna_by_name[\"Vertebrate Mitochondrial\"]   ##check return## also retrieves amino acids\n",
    "    aa_seq = {}                                                                   #creates file for amino acid sequence\n",
    "    for 3seq in nucleotides                                                       #for loop, for 3 nucleotides in sequence\n",
    "        if 3seq != start codon:                                                   #match nucleotides; end if stop codon\n",
    "            aa = retrieve amino acid: mito_table.forward_table[codon]             #match nucleotides to amino acid\n",
    "            aa_seq += aa                                                          #adds amino acid to aa sequence\n",
    "    return(aa_seq)                                                                #returns amino acid sequence\n"
   ]
  },
  {
   "cell_type": "code",
   "execution_count": null,
   "id": "44378efa",
   "metadata": {},
   "outputs": [],
   "source": [
    "## 3 ##\n",
    "####### YOUR ALTERNATIVE FUNCTION ########\n",
    "## Is there a better way to write the translation function? (Hint: yes there is.) \n",
    "## Perhaps using available BioPython library utilities?\n",
    "## Please also write this function.\n",
    "\n",
    "#3#\n",
    "\n",
    "def translate(nucleotides)                                     #creates function: name(input)\n",
    "    "
   ]
  },
  {
   "cell_type": "code",
   "execution_count": null,
   "id": "0195352e",
   "metadata": {},
   "outputs": [],
   "source": [
    "## 4 ##\n",
    "####### YOUR COUNT AA ANALYSIS FUNCTION ########\n",
    "## Write a function that calculates the molecular weight of each amino acid sequence.\n",
    "## For this, you can use some BioPython functions. I think you can use the ProtParam module.\n",
    "## For more info, check this out: http://biopython.org/wiki/ProtParam\n",
    "## So you should import the following before defining your function:\n",
    "# def compute_molecular_weight(aa_seq):\n",
    "#     # I think the ProtParam functions may require aa_seq to be a string.\n",
    "#     # It may not work if the amino acid sequence has stop codons.\n",
    "#     run the ProteinAnalysis() function on aa_seq\n",
    "#\t  return the molecular weight\n",
    "\n",
    "\n",
    "#4#\n",
    "\n",
    "from Bio.SeqUtils.ProtParam import ProteinAnalysis    #import necessary protein analysis utility\n",
    "def molweight(aa_seq)                                 #create function: name(input)\n",
    "    weight = {}                                       #create object for weight\n",
    "    aa_seq_2 = convert aa_seq to string               #convert aa_seq into string for analysis\n",
    "    if last_aa_is_stop_codon                          #check for stop codons\n",
    "       remove stop codon                              #remove stop codons if present\n",
    "    weight = ProteinAnalysis(aa_seq_2)                #analyze protein weight and save in weight object\n",
    "    return(weight)                                    #return molecular weight of amino acid sequence\n",
    "\n"
   ]
  },
  {
   "cell_type": "code",
   "execution_count": null,
   "id": "05a1b000",
   "metadata": {},
   "outputs": [],
   "source": [
    "## 5 ##\n",
    "####### YOUR GC CONTENT ANALYSIS FUNCTION ########\n",
    "## Write a function that calculates the GC-content (proportion of \"G\" and \"C\") of each DNA sequence and returns this value.\n",
    "\n",
    "#5#\n",
    "\n",
    "def GCcontent(nucleotides)                            #create function: name(input)\n",
    "    GCcount = {}                                      #create object for count of GC\n",
    "    GCpercent = {}                                    #create object for percent of GC\n",
    "    GCcount = (nucleotides.count('GC') + nucleotides.count('CG'))/(nucleotides.count('GCG') + nucleotides.count('CGC'))\n",
    "    #calculates GC content, while accounting for double counting of nucleotides???\n",
    "    GCpercent = GCcount/(nucleotides.count('A') + nucleotides.count('G') + nucleotides.count('T') + nucleotides.count('C'))\n",
    "    #calculates percent GC in DNA\n",
    "    return(GCpercent)                                 #return GC percentage\n",
    "\n"
   ]
  },
  {
   "cell_type": "code",
   "execution_count": null,
   "id": "9ea101c3",
   "metadata": {},
   "outputs": [],
   "source": [
    "#%%%%%%%%%%%%%%#\n",
    "###   MAIN   ###\n",
    "#%%%%%%%%%%%%%%#\n",
    "\n",
    "cytb_seqs = get_sequences_from_file(\"penguins_cytb.fasta\") \n",
    "\n",
    "penguins_df = pd.read_csv(\"penguins_mass.csv\") # Includes only data for body mass \n",
    "species_list = list(penguins_df.species)\n",
    "\n",
    "## 6 ## \n",
    "## Add two new columns to the penguin DataFrame: (1) molecular weight and (2) GC content.\n",
    "## Set the value to 'NaN' to indicate that these cells are currently empty.\n"
   ]
  },
  {
   "cell_type": "code",
   "execution_count": null,
   "id": "3645bae9",
   "metadata": {},
   "outputs": [],
   "source": [
    "## 7 ##\n",
    "## Write a for-loop that translates each sequence and also gets molecular weight and computes the GC content\n",
    "## of each translated sequence and adds those data to DataFrame\n",
    "# for key, value in cytb_seqs.items():\n",
    "#     aa_seq = nuc2aa_translate_function(value) # whichever function you prefer of #2 or #3\n",
    "#     get the molecular weight of aa_seq\n",
    "#     get the GC content of the DNA sequence\n",
    "#     fill in empty cells in DF that you created above\n"
   ]
  },
  {
   "cell_type": "code",
   "execution_count": null,
   "id": "c4f65133",
   "metadata": {},
   "outputs": [],
   "source": [
    "## 8 ##\n",
    "## Plot a bar-chart of the mass with the x-axes labeled with species names.\n",
    "## *Q1* What is the smallest penguin species? \n",
    "## *Q2* What is the geographical range of this species?"
   ]
  },
  {
   "cell_type": "code",
   "execution_count": null,
   "id": "d9f8ec78",
   "metadata": {},
   "outputs": [],
   "source": [
    "## 9 ##\n",
    "## Plot a visualization of the molecular weight (y-axis) as a function of GC-content (x-axis).\n"
   ]
  },
  {
   "cell_type": "code",
   "execution_count": null,
   "id": "49aaffdb",
   "metadata": {},
   "outputs": [],
   "source": [
    "## 10 ##\n",
    "## Save the new DataFrame to a file called \"penguins_mass_cytb.csv\"\n"
   ]
  },
  {
   "cell_type": "code",
   "execution_count": null,
   "id": "6a40ea13",
   "metadata": {},
   "outputs": [],
   "source": [
    "## 11 - BONUS ##\n",
    "## What else can we do with this dataset in Python? \n",
    "## Add functions or anything that might be interesting and fun. (optional)"
   ]
  },
  {
   "cell_type": "code",
   "execution_count": null,
   "id": "0b4d0744",
   "metadata": {},
   "outputs": [],
   "source": []
  }
 ],
 "metadata": {
  "kernelspec": {
   "display_name": "Python 3 (ipykernel)",
   "language": "python",
   "name": "python3"
  },
  "language_info": {
   "codemirror_mode": {
    "name": "ipython",
    "version": 3
   },
   "file_extension": ".py",
   "mimetype": "text/x-python",
   "name": "python",
   "nbconvert_exporter": "python",
   "pygments_lexer": "ipython3",
   "version": "3.10.9"
  }
 },
 "nbformat": 4,
 "nbformat_minor": 5
}
